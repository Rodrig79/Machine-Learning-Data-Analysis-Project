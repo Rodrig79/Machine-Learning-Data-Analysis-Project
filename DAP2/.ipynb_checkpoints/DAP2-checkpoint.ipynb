{
 "cells": [
  {
   "cell_type": "code",
   "execution_count": 0,
   "metadata": {
    "colab": {},
    "colab_type": "code",
    "id": "rO6N5JjOCznb"
   },
   "outputs": [],
   "source": [
    "#Python ≥3.5 is required\n",
    "import sys\n",
    "assert sys.version_info >= (3, 5)\n",
    "import datetime\n",
    "\n",
    "# Scikit-Learn ≥0.20 is required\n",
    "import sklearn\n",
    "assert sklearn.__version__ >= \"0.20\"\n",
    "\n",
    "# Common imports\n",
    "import numpy as np\n",
    "import pandas as pd\n",
    "import os\n",
    "from sklearn.metrics import confusion_matrix\n",
    "from sklearn.metrics import classification_report\n",
    "from sklearn.model_selection import train_test_split\n",
    "import matplotlib.pyplot as plt\n",
    "from scipy import stats\n",
    "\n",
    "# To plot pretty figures\n",
    "%matplotlib inline\n",
    "import matplotlib as mpl\n",
    "import matplotlib.pyplot as plt\n",
    "mpl.rc('axes', labelsize=14)\n",
    "mpl.rc('xtick', labelsize=12)\n",
    "mpl.rc('ytick', labelsize=12)\n",
    "\n",
    "# to make this notebook's output stable across runs\n",
    "np.random.seed(42)\n",
    "\n",
    "# Where to save the figures\n",
    "PROJECT_ROOT_DIR = \".\"\n",
    "CHAPTER_ID = \"decision_trees\"\n",
    "IMAGES_PATH = os.path.join(PROJECT_ROOT_DIR, \"images\", CHAPTER_ID)\n",
    "\n",
    "os.makedirs(IMAGES_PATH, exist_ok=True)\n",
    "\n",
    "def save_fig(fig_id, tight_layout=True, fig_extension=\"png\", resolution=300):\n",
    "    path = os.path.join(IMAGES_PATH, fig_id + \".\" + fig_extension)\n",
    "    print(\"Saving figure\", fig_id)\n",
    "    if tight_layout:\n",
    "        plt.tight_layout()\n",
    "    plt.savefig(path, format=fig_extension, dpi=resolution)"
   ]
  },
  {
   "cell_type": "code",
   "execution_count": 0,
   "metadata": {
    "colab": {},
    "colab_type": "code",
    "id": "oHaaZZR99wIu"
   },
   "outputs": [],
   "source": [
    "#Pull \n",
    "statesData = pd.read_csv('https://raw.githubusercontent.com/Rodrig79/Machine-Learning-Data-Analysis-Project/master/processedData/US_State_Cases_Processed_v1.6.csv')"
   ]
  },
  {
   "cell_type": "code",
   "execution_count": 0,
   "metadata": {
    "colab": {
     "base_uri": "https://localhost:8080/",
     "height": 476
    },
    "colab_type": "code",
    "id": "6yM6ux-XDBXT",
    "outputId": "aa1b3b67-7861-4ef8-bee2-066c70e537a3"
   },
   "outputs": [
    {
     "name": "stdout",
     "output_type": "stream",
     "text": [
      "            date          state  cases  deaths  cases_per_capita  \\\n",
      "133   2020-02-17  Nebraska       10     0       0.5                \n",
      "141   2020-02-18  Nebraska       10     0       0.5                \n",
      "149   2020-02-19  Nebraska       10     0       0.5                \n",
      "157   2020-02-20  Nebraska       11     0       0.6                \n",
      "165   2020-02-21  Nebraska       11     0       0.6                \n",
      "...          ...       ...       ..    ..       ...                \n",
      "3538  2020-05-07  South Dakota   2905   31      328.4              \n",
      "3541  2020-05-07  Utah           5724   61      178.5              \n",
      "3542  2020-05-07  Vermont        916    54      146.8              \n",
      "3545  2020-05-07  West Virginia  1297   51      72.4               \n",
      "3547  2020-05-07  Wyoming        635    7       109.7              \n",
      "\n",
      "      deaths_per_capita  state_population  \n",
      "133   0.0                1934408           \n",
      "141   0.0                1934408           \n",
      "149   0.0                1934408           \n",
      "157   0.0                1934408           \n",
      "165   0.0                1934408           \n",
      "...   ...                    ...           \n",
      "3538  3.5                884659            \n",
      "3541  1.9                3205958           \n",
      "3542  8.7                623989            \n",
      "3545  2.9                1792147           \n",
      "3547  1.2                578759            \n",
      "\n",
      "[2121 rows x 7 columns]\n"
     ]
    }
   ],
   "source": [
    "#removes the unnecessary columns from the dataset\n",
    "print(statesData)\n",
    "\n",
    "# removing extreme outliers\n",
    "statesData = statesData[statesData[\"cases\"].between(statesData[\"cases\"].quantile(.15), statesData[\"cases\"].quantile(.85))]\n",
    "statesData = statesData[statesData[\"deaths\"].between(statesData[\"deaths\"].quantile(.15), statesData[\"deaths\"].quantile(.85))]\n",
    "\n",
    "#converts the column \"cases per capita\" from string to float\n",
    "statesData['state'] = statesData['state'].astype(str)\n",
    "statesData['date'] = statesData['date'].astype(str)\n"
   ]
  },
  {
   "cell_type": "code",
   "execution_count": 0,
   "metadata": {
    "colab": {},
    "colab_type": "code",
    "id": "aoGElVAcWGbM"
   },
   "outputs": [],
   "source": []
  },
  {
   "cell_type": "code",
   "execution_count": 0,
   "metadata": {
    "colab": {},
    "colab_type": "code",
    "id": "IYaJ297Sv-5H"
   },
   "outputs": [],
   "source": [
    "#changes the output for the print statements\n",
    "pd.set_option('display.max_rows', 10)\n",
    "pd.set_option('display.max_columns', None)\n",
    "pd.set_option('display.width', None)\n",
    "pd.set_option('display.max_colwidth',0)"
   ]
  },
  {
   "cell_type": "code",
   "execution_count": 0,
   "metadata": {
    "colab": {
     "base_uri": "https://localhost:8080/",
     "height": 1000
    },
    "colab_type": "code",
    "id": "mpo1Dg7Xevmm",
    "outputId": "51bbb374-4684-43c2-86f8-330254f96034"
   },
   "outputs": [
    {
     "name": "stdout",
     "output_type": "stream",
     "text": [
      "min\n",
      "\n",
      "date                 2020-03-04\n",
      "state                Alabama   \n",
      "cases                46        \n",
      "deaths               1         \n",
      "cases_per_capita     0.1       \n",
      "deaths_per_capita    0         \n",
      "state_population     167294    \n",
      "dtype: object\n",
      "\n",
      "max\n",
      "\n",
      "date                 2020-05-07\n",
      "state                Wyoming   \n",
      "cases                2630      \n",
      "deaths               49        \n",
      "cases_per_capita     668.3     \n",
      "deaths_per_capita    7.9       \n",
      "state_population     39512223  \n",
      "dtype: object\n",
      "\n",
      "mean\n",
      "\n",
      "cases                7.158547e+02\n",
      "deaths               1.403159e+01\n",
      "cases_per_capita     5.165081e+01\n",
      "deaths_per_capita    8.872744e-01\n",
      "state_population     4.587409e+06\n",
      "dtype: float64\n",
      "\n",
      "median\n",
      "\n",
      "cases                566.0    \n",
      "deaths               9.0      \n",
      "cases_per_capita     24.8     \n",
      "deaths_per_capita    0.5      \n",
      "state_population     2913314.0\n",
      "dtype: float64\n",
      "\n",
      "mode\n",
      "\n",
      "         date state  cases  deaths  cases_per_capita  deaths_per_capita  \\\n",
      "0  2020-03-27  Guam  456.0  1.0     2.7               0.1                 \n",
      "1  2020-03-28  NaN  NaN    NaN      3.0              NaN                  \n",
      "2  2020-03-29  NaN  NaN    NaN     NaN               NaN                  \n",
      "\n",
      "   state_population  \n",
      "0  167294.0          \n",
      "1 NaN                \n",
      "2 NaN                \n",
      "\n",
      "standard deviation\n",
      "\n",
      "cases                5.685319e+02\n",
      "deaths               1.284470e+01\n",
      "cases_per_capita     9.515390e+01\n",
      "deaths_per_capita    1.198716e+00\n",
      "state_population     6.629061e+06\n",
      "dtype: float64\n",
      "\n",
      "first quartile\n",
      "\n",
      "cases                275.0    \n",
      "deaths               4.0      \n",
      "cases_per_capita     8.9      \n",
      "deaths_per_capita    0.1      \n",
      "state_population     1059361.0\n",
      "Name: 0.25, dtype: float64\n",
      "\n",
      "second quartile\n",
      "\n",
      "cases                1020.000   \n",
      "deaths               21.000     \n",
      "cases_per_capita     50.325     \n",
      "deaths_per_capita    1.100      \n",
      "state_population     5639632.000\n",
      "Name: 0.75, dtype: float64\n",
      "\n",
      "box plot for cases\n",
      "\n"
     ]
    },
    {
     "data": {
      "image/png": "[encoded data removed]",
      "text/plain": [
       "<Figure size 432x288 with 1 Axes>"
      ]
     },
     "metadata": {
      "needs_background": "light",
      "tags": []
     },
     "output_type": "display_data"
    },
    {
     "name": "stdout",
     "output_type": "stream",
     "text": [
      "\n",
      "box plot for deaths\n",
      "\n"
     ]
    },
    {
     "data": {
      "image/png": "[encoded data removed]",
      "text/plain": [
       "<Figure size 432x288 with 1 Axes>"
      ]
     },
     "metadata": {
      "needs_background": "light",
      "tags": []
     },
     "output_type": "display_data"
    },
    {
     "name": "stdout",
     "output_type": "stream",
     "text": [
      "\n",
      "box plot for Cases per capita\n",
      "\n"
     ]
    },
    {
     "data": {
      "image/png": "[encoded data removed]",
      "text/plain": [
       "<Figure size 432x288 with 1 Axes>"
      ]
     },
     "metadata": {
      "needs_background": "light",
      "tags": []
     },
     "output_type": "display_data"
    },
    {
     "name": "stdout",
     "output_type": "stream",
     "text": [
      "\n",
      "box plot for Deaths per capita\n",
      "\n"
     ]
    },
    {
     "data": {
      "image/png": "[encoded data removed]",
      "text/plain": [
       "<Figure size 432x288 with 1 Axes>"
      ]
     },
     "metadata": {
      "needs_background": "light",
      "tags": []
     },
     "output_type": "display_data"
    }
   ],
   "source": [
    "print(\"min\\n\")\n",
    "print(statesData.min())\n",
    "print(\"\\nmax\\n\")\n",
    "print(statesData.max())\n",
    "print(\"\\nmean\\n\")\n",
    "print(statesData.mean(skipna=False))\n",
    "print(\"\\nmedian\\n\")\n",
    "print(statesData.median())\n",
    "print(\"\\nstandard deviation\\n\")\n",
    "print(statesData.std())\n",
    "\n",
    "print(\"\\nfirst quartile\\n\")\n",
    "print(statesData.quantile(0.25))\n",
    "print(\"\\nsecond quartile\\n\")\n",
    "print(statesData.quantile(0.75))\n",
    " \n",
    "print(\"\\nbox plot for cases\\n\")\n",
    "bp = statesData.boxplot(column=[\"cases\"])\n",
    "plt.show()\n",
    "\n",
    "print(\"\\nbox plot for deaths\\n\")\n",
    "statesData.boxplot(column=[\"deaths\"])\n",
    "plt.show()\n",
    "\n",
    "print(\"\\nbox plot for Cases per capita\\n\")\n",
    "bp = statesData.boxplot(column=[\"cases_per_capita\"])\n",
    "plt.show()\n",
    "\n",
    "print(\"\\nbox plot for Deaths per capita\\n\")\n",
    "bp = statesData.boxplot(column=[\"deaths_per_capita\"])\n",
    "plt.show()"
   ]
  },
  {
   "cell_type": "code",
   "execution_count": 0,
   "metadata": {
    "colab": {
     "base_uri": "https://localhost:8080/",
     "height": 153
    },
    "colab_type": "code",
    "id": "ZsFNv5_EeKI8",
    "outputId": "9862ec2a-6833-46b9-91ba-88b4da4b57b6"
   },
   "outputs": [
    {
     "data": {
      "text/plain": [
       "date                 object \n",
       "state                object \n",
       "cases                int64  \n",
       "deaths               int64  \n",
       "cases_per_capita     float64\n",
       "deaths_per_capita    float64\n",
       "state_population     int64  \n",
       "dtype: object"
      ]
     },
     "execution_count": 9,
     "metadata": {
      "tags": []
     },
     "output_type": "execute_result"
    }
   ],
   "source": [
    "statesData.dtypes"
   ]
  },
  {
   "cell_type": "code",
   "execution_count": 0,
   "metadata": {
    "colab": {},
    "colab_type": "code",
    "id": "YI7wqHjgdGCI"
   },
   "outputs": [],
   "source": []
  },
  {
   "cell_type": "code",
   "execution_count": 0,
   "metadata": {
    "colab": {},
    "colab_type": "code",
    "id": "x4mlm0GbE1lj"
   },
   "outputs": [],
   "source": []
  },
  {
   "cell_type": "code",
   "execution_count": 0,
   "metadata": {
    "colab": {},
    "colab_type": "code",
    "id": "a5uI8vi5EUf9"
   },
   "outputs": [],
   "source": []
  },
  {
   "cell_type": "code",
   "execution_count": 0,
   "metadata": {
    "colab": {},
    "colab_type": "code",
    "id": "q-VmLlZxDlqB"
   },
   "outputs": [],
   "source": []
  },
  {
   "cell_type": "code",
   "execution_count": 0,
   "metadata": {
    "colab": {},
    "colab_type": "code",
    "id": "uQp1DfRJ73yN"
   },
   "outputs": [],
   "source": []
  },
  {
   "cell_type": "code",
   "execution_count": 0,
   "metadata": {
    "colab": {},
    "colab_type": "code",
    "id": "Wu78gAzL61pg"
   },
   "outputs": [],
   "source": []
  }
 ],
 "metadata": {
  "colab": {
   "collapsed_sections": [],
   "name": "DAP2.ipynb",
   "provenance": []
  },
  "kernelspec": {
   "display_name": "Python 3",
   "language": "python",
   "name": "python3"
  },
  "language_info": {
   "codemirror_mode": {
    "name": "ipython",
    "version": 3
   },
   "file_extension": ".py",
   "mimetype": "text/x-python",
   "name": "python",
   "nbconvert_exporter": "python",
   "pygments_lexer": "ipython3",
   "version": "3.7.0"
  }
 },
 "nbformat": 4,
 "nbformat_minor": 1
}
